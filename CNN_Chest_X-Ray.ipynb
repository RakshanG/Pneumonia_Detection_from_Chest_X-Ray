{
 "cells": [
  {
   "cell_type": "code",
   "execution_count": 1,
   "id": "d41e56df-1dc6-40d1-bb8f-9bff5ccbd2f4",
   "metadata": {},
   "outputs": [],
   "source": [
    "import pandas as pd \n",
    "import numpy as np \n",
    "import matplotlib.pyplot as plt \n",
    "import seaborn as sns \n",
    "from sklearn.metrics import classification_report, confusion_matrix\n",
    "import tensorflow as tf\n",
    "from tensorflow.keras.models import Sequential\n",
    "from tensorflow.keras.layers import Conv2D, MaxPooling2D, Flatten, Dense, Dropout\n",
    "from tensorflow.keras.preprocessing.image import ImageDataGenerator"
   ]
  },
  {
   "cell_type": "code",
   "execution_count": 2,
   "id": "3f35cec6-424d-4552-b0c7-f0b09e9c7163",
   "metadata": {},
   "outputs": [],
   "source": [
    "train_data = \"/Users/rakshangade/Downloads/chest_xray/chest_xray/train\"\n",
    "val_data = \"/Users/rakshangade/Downloads/chest_xray/chest_xray/val\"\n",
    "test_data = \"/Users/rakshangade/Downloads/chest_xray/chest_xray/test\""
   ]
  },
  {
   "cell_type": "code",
   "execution_count": 3,
   "id": "4369f8eb-2100-4105-829f-73c698a0bb94",
   "metadata": {},
   "outputs": [],
   "source": [
    "train_datagen = ImageDataGenerator(rescale=1./255)\n",
    "val_datagen   = ImageDataGenerator(rescale=1./255)\n",
    "test_datagen  = ImageDataGenerator(rescale=1./255)"
   ]
  },
  {
   "cell_type": "code",
   "execution_count": 4,
   "id": "7b84f110-cb8b-40f9-a4df-c33e10cba6d6",
   "metadata": {},
   "outputs": [],
   "source": [
    "img_size = (150, 150) \n",
    "batch_size = 32"
   ]
  },
  {
   "cell_type": "code",
   "execution_count": 5,
   "id": "f1ba265d-b27c-4a59-9201-23b18368906b",
   "metadata": {},
   "outputs": [
    {
     "name": "stdout",
     "output_type": "stream",
     "text": [
      "Found 5216 images belonging to 2 classes.\n",
      "Found 16 images belonging to 2 classes.\n",
      "Found 624 images belonging to 2 classes.\n"
     ]
    }
   ],
   "source": [
    "train_generator = train_datagen.flow_from_directory(\n",
    "    train_data,\n",
    "    target_size=img_size,\n",
    "    batch_size=batch_size,\n",
    "    class_mode=\"binary\"   \n",
    ")\n",
    "\n",
    "val_generator = val_datagen.flow_from_directory(\n",
    "    val_data,\n",
    "    target_size=img_size,\n",
    "    batch_size=batch_size,\n",
    "    class_mode=\"binary\"\n",
    ")\n",
    "\n",
    "test_generator = test_datagen.flow_from_directory(\n",
    "    test_data,\n",
    "    target_size=img_size,\n",
    "    batch_size=batch_size,\n",
    "    class_mode=\"binary\",\n",
    "    shuffle=False\n",
    ")"
   ]
  },
  {
   "cell_type": "code",
   "execution_count": 6,
   "id": "7df87a92-af81-4f95-9df4-e54a2db5bef6",
   "metadata": {},
   "outputs": [
    {
     "name": "stdout",
     "output_type": "stream",
     "text": [
      "Model: \"sequential\"\n",
      "_________________________________________________________________\n",
      " Layer (type)                Output Shape              Param #   \n",
      "=================================================================\n",
      " conv2d (Conv2D)             (None, 148, 148, 32)      896       \n",
      "                                                                 \n",
      " max_pooling2d (MaxPooling2  (None, 74, 74, 32)        0         \n",
      " D)                                                              \n",
      "                                                                 \n",
      " conv2d_1 (Conv2D)           (None, 72, 72, 64)        18496     \n",
      "                                                                 \n",
      " max_pooling2d_1 (MaxPoolin  (None, 36, 36, 64)        0         \n",
      " g2D)                                                            \n",
      "                                                                 \n",
      " conv2d_2 (Conv2D)           (None, 34, 34, 128)       73856     \n",
      "                                                                 \n",
      " max_pooling2d_2 (MaxPoolin  (None, 17, 17, 128)       0         \n",
      " g2D)                                                            \n",
      "                                                                 \n",
      " flatten (Flatten)           (None, 36992)             0         \n",
      "                                                                 \n",
      " dense (Dense)               (None, 128)               4735104   \n",
      "                                                                 \n",
      " dropout (Dropout)           (None, 128)               0         \n",
      "                                                                 \n",
      " dense_1 (Dense)             (None, 1)                 129       \n",
      "                                                                 \n",
      "=================================================================\n",
      "Total params: 4828481 (18.42 MB)\n",
      "Trainable params: 4828481 (18.42 MB)\n",
      "Non-trainable params: 0 (0.00 Byte)\n",
      "_________________________________________________________________\n"
     ]
    },
    {
     "name": "stderr",
     "output_type": "stream",
     "text": [
      "2025-08-31 15:56:22.568197: I metal_plugin/src/device/metal_device.cc:1154] Metal device set to: Apple M3\n",
      "2025-08-31 15:56:22.568222: I metal_plugin/src/device/metal_device.cc:296] systemMemory: 16.00 GB\n",
      "2025-08-31 15:56:22.568228: I metal_plugin/src/device/metal_device.cc:313] maxCacheSize: 5.33 GB\n",
      "2025-08-31 15:56:22.568252: I tensorflow/core/common_runtime/pluggable_device/pluggable_device_factory.cc:303] Could not identify NUMA node of platform GPU ID 0, defaulting to 0. Your kernel may not have been built with NUMA support.\n",
      "2025-08-31 15:56:22.568262: I tensorflow/core/common_runtime/pluggable_device/pluggable_device_factory.cc:269] Created TensorFlow device (/job:localhost/replica:0/task:0/device:GPU:0 with 0 MB memory) -> physical PluggableDevice (device: 0, name: METAL, pci bus id: <undefined>)\n"
     ]
    }
   ],
   "source": [
    "model = Sequential([\n",
    "    Conv2D(32,(3,3), activation=\"relu\",input_shape=(150,150,3)),\n",
    "    MaxPooling2D(pool_size=(2,2)),\n",
    "\n",
    "    Conv2D(64,(3,3), activation='relu'),\n",
    "    MaxPooling2D(pool_size=(2,2)),\n",
    "\n",
    "    Conv2D(128,(3,3), activation='relu'),\n",
    "    MaxPooling2D(pool_size=(2,2)),\n",
    "\n",
    "    Flatten(),\n",
    "    Dense(128, activation='relu'),\n",
    "    Dropout(0.5),\n",
    "    Dense(1,activation='sigmoid')\n",
    "])\n",
    "\n",
    "model.compile(optimizer=\"adam\", loss='binary_crossentropy',metrics=['accuracy'])\n",
    "\n",
    "model.summary()"
   ]
  },
  {
   "cell_type": "code",
   "execution_count": 7,
   "id": "f3976b78-3dff-4934-b978-680d1ee0e5c9",
   "metadata": {},
   "outputs": [
    {
     "name": "stdout",
     "output_type": "stream",
     "text": [
      "Epoch 1/10\n"
     ]
    },
    {
     "name": "stderr",
     "output_type": "stream",
     "text": [
      "2025-08-31 15:56:22.979177: I tensorflow/core/grappler/optimizers/custom_graph_optimizer_registry.cc:114] Plugin optimizer for device_type GPU is enabled.\n"
     ]
    },
    {
     "name": "stdout",
     "output_type": "stream",
     "text": [
      "163/163 [==============================] - 23s 140ms/step - loss: 0.5527 - accuracy: 0.7761 - val_loss: 0.5719 - val_accuracy: 0.6875\n",
      "Epoch 2/10\n"
     ]
    },
    {
     "name": "stderr",
     "output_type": "stream",
     "text": [
      "2025-08-31 15:56:45.857389: I tensorflow/core/grappler/optimizers/custom_graph_optimizer_registry.cc:114] Plugin optimizer for device_type GPU is enabled.\n"
     ]
    },
    {
     "name": "stdout",
     "output_type": "stream",
     "text": [
      "163/163 [==============================] - 25s 152ms/step - loss: 0.2859 - accuracy: 0.9120 - val_loss: 0.2849 - val_accuracy: 0.9375\n",
      "Epoch 3/10\n",
      "163/163 [==============================] - 26s 162ms/step - loss: 0.2166 - accuracy: 0.9298 - val_loss: 0.7933 - val_accuracy: 0.7500\n",
      "Epoch 4/10\n",
      "163/163 [==============================] - 28s 174ms/step - loss: 0.1756 - accuracy: 0.9436 - val_loss: 0.6761 - val_accuracy: 0.7500\n",
      "Epoch 5/10\n",
      "163/163 [==============================] - 27s 163ms/step - loss: 0.1168 - accuracy: 0.9599 - val_loss: 0.2489 - val_accuracy: 0.9375\n",
      "Epoch 6/10\n",
      "163/163 [==============================] - 24s 148ms/step - loss: 0.1020 - accuracy: 0.9691 - val_loss: 0.4303 - val_accuracy: 0.8750\n",
      "Epoch 7/10\n",
      "163/163 [==============================] - 24s 148ms/step - loss: 0.0823 - accuracy: 0.9737 - val_loss: 0.3872 - val_accuracy: 0.8750\n",
      "Epoch 8/10\n",
      "163/163 [==============================] - 24s 147ms/step - loss: 0.0789 - accuracy: 0.9734 - val_loss: 0.3740 - val_accuracy: 0.8750\n",
      "Epoch 9/10\n",
      "163/163 [==============================] - 26s 161ms/step - loss: 0.0664 - accuracy: 0.9789 - val_loss: 0.4153 - val_accuracy: 0.9375\n",
      "Epoch 10/10\n",
      "163/163 [==============================] - 28s 170ms/step - loss: 0.0621 - accuracy: 0.9797 - val_loss: 0.5893 - val_accuracy: 0.8750\n"
     ]
    }
   ],
   "source": [
    "history = model.fit(\n",
    "    train_generator,\n",
    "    steps_per_epoch = len(train_generator),\n",
    "    epochs=10,\n",
    "    validation_data = val_generator,\n",
    "    validation_steps=len(val_generator)\n",
    ")"
   ]
  },
  {
   "cell_type": "code",
   "execution_count": 8,
   "id": "2a768d50-0b44-4dec-a318-75abc58b3385",
   "metadata": {},
   "outputs": [
    {
     "name": "stdout",
     "output_type": "stream",
     "text": [
      "20/20 [==============================] - 2s 112ms/step - loss: 1.9814 - accuracy: 0.7356\n",
      "Test Accuracy: 0.7356\n",
      "Test Loss: 1.9814\n"
     ]
    }
   ],
   "source": [
    "test_loss, test_acc = model.evaluate(test_generator, steps=len(test_generator))\n",
    "print(f\"Test Accuracy: {test_acc:.4f}\")\n",
    "print(f\"Test Loss: {test_loss:.4f}\")\n"
   ]
  },
  {
   "cell_type": "code",
   "execution_count": 9,
   "id": "5889c438-99fe-4fda-a5d7-24978658b9b4",
   "metadata": {},
   "outputs": [
    {
     "name": "stderr",
     "output_type": "stream",
     "text": [
      "2025-08-31 16:00:41.632700: I tensorflow/core/grappler/optimizers/custom_graph_optimizer_registry.cc:114] Plugin optimizer for device_type GPU is enabled.\n"
     ]
    },
    {
     "name": "stdout",
     "output_type": "stream",
     "text": [
      "20/20 [==============================] - 2s 88ms/step\n",
      "              precision    recall  f1-score   support\n",
      "\n",
      "      Normal       0.99      0.30      0.46       234\n",
      "   Pneumonia       0.70      1.00      0.83       390\n",
      "\n",
      "    accuracy                           0.74       624\n",
      "   macro avg       0.84      0.65      0.64       624\n",
      "weighted avg       0.81      0.74      0.69       624\n",
      "\n"
     ]
    },
    {
     "data": {
      "image/png": "[encoded data removed]",
      "text/plain": [
       "<Figure size 640x480 with 2 Axes>"
      ]
     },
     "metadata": {},
     "output_type": "display_data"
    }
   ],
   "source": [
    "y_pred = model.predict(test_generator, steps=len(test_generator))\n",
    "y_pred_classes = (y_pred > 0.5).astype(\"int32\").flatten()\n",
    "y_true = test_generator.classes\n",
    "\n",
    "print(classification_report(y_true, y_pred_classes, target_names=[\"Normal\", \"Pneumonia\"]))\n",
    "\n",
    "cm = confusion_matrix(y_true, y_pred_classes)\n",
    "sns.heatmap(cm, annot=True, fmt=\"d\", cmap=\"Blues\", xticklabels=[\"Normal\",\"Pneumonia\"], yticklabels=[\"Normal\",\"Pneumonia\"])\n",
    "plt.xlabel(\"Predicted\")\n",
    "plt.ylabel(\"Actual\")\n",
    "plt.show()"
   ]
  },
  {
   "cell_type": "code",
   "execution_count": 10,
   "id": "0226a390-8696-4898-9ca0-56732d70463e",
   "metadata": {},
   "outputs": [],
   "source": [
    "train_datagen = ImageDataGenerator(\n",
    "    rescale=1./255,\n",
    "    rotation_range=15,\n",
    "    width_shift_range=0.1,\n",
    "    height_shift_range=0.1,\n",
    "    zoom_range=0.1,\n",
    "    shear_range=0.1,\n",
    "    horizontal_flip=True\n",
    ")\n"
   ]
  },
  {
   "cell_type": "code",
   "execution_count": 11,
   "id": "cae89a78-0169-4f94-848e-0c0859af3eb2",
   "metadata": {},
   "outputs": [
    {
     "name": "stdout",
     "output_type": "stream",
     "text": [
      "Epoch 1/20\n",
      "163/163 [==============================] - 25s 155ms/step - loss: 0.0615 - accuracy: 0.9810 - val_loss: 0.3362 - val_accuracy: 0.9375\n",
      "Epoch 2/20\n",
      "163/163 [==============================] - 27s 167ms/step - loss: 0.0459 - accuracy: 0.9850 - val_loss: 0.3683 - val_accuracy: 0.9375\n",
      "Epoch 3/20\n",
      "163/163 [==============================] - 25s 150ms/step - loss: 0.0494 - accuracy: 0.9831 - val_loss: 1.3770 - val_accuracy: 0.6875\n",
      "Epoch 4/20\n",
      "163/163 [==============================] - 25s 153ms/step - loss: 0.0545 - accuracy: 0.9829 - val_loss: 0.6646 - val_accuracy: 0.8125\n"
     ]
    }
   ],
   "source": [
    "from tensorflow.keras.callbacks import EarlyStopping\n",
    "\n",
    "early_stop = EarlyStopping(monitor='val_loss', patience=3, restore_best_weights=True)\n",
    "\n",
    "history = model.fit(\n",
    "    train_generator,\n",
    "    steps_per_epoch=len(train_generator),\n",
    "    epochs=20,\n",
    "    validation_data=val_generator,\n",
    "    validation_steps=len(val_generator),\n",
    "    callbacks=[early_stop]\n",
    ")\n"
   ]
  },
  {
   "cell_type": "code",
   "execution_count": 12,
   "id": "df873ddb-80cc-493a-9b29-bca28bdb76e3",
   "metadata": {},
   "outputs": [],
   "source": [
    "import ssl\n",
    "ssl._create_default_https_context = ssl._create_unverified_context\n",
    "from tensorflow.keras.applications import ResNet50\n",
    "base_model = ResNet50(weights=\"imagenet\", include_top=False, input_shape=(150,150,3))\n",
    "\n"
   ]
  },
  {
   "cell_type": "code",
   "execution_count": 13,
   "id": "35066b48-6119-4c5b-a82a-e078064f33c5",
   "metadata": {},
   "outputs": [
    {
     "name": "stderr",
     "output_type": "stream",
     "text": [
      "WARNING:absl:At this time, the v2.11+ optimizer `tf.keras.optimizers.Adam` runs slowly on M1/M2 Macs, please use the legacy Keras optimizer instead, located at `tf.keras.optimizers.legacy.Adam`.\n",
      "WARNING:absl:There is a known slowdown when using v2.11+ Keras optimizers on M1/M2 Macs. Falling back to the legacy Keras optimizer, i.e., `tf.keras.optimizers.legacy.Adam`.\n"
     ]
    },
    {
     "name": "stdout",
     "output_type": "stream",
     "text": [
      "Epoch 1/20\n"
     ]
    },
    {
     "name": "stderr",
     "output_type": "stream",
     "text": [
      "2025-08-31 16:02:28.704426: I tensorflow/core/grappler/optimizers/custom_graph_optimizer_registry.cc:114] Plugin optimizer for device_type GPU is enabled.\n"
     ]
    },
    {
     "name": "stdout",
     "output_type": "stream",
     "text": [
      "163/163 [==============================] - ETA: 0s - loss: 0.6624 - accuracy: 0.6745"
     ]
    },
    {
     "name": "stderr",
     "output_type": "stream",
     "text": [
      "2025-08-31 16:03:06.538859: I tensorflow/core/grappler/optimizers/custom_graph_optimizer_registry.cc:114] Plugin optimizer for device_type GPU is enabled.\n"
     ]
    },
    {
     "name": "stdout",
     "output_type": "stream",
     "text": [
      "163/163 [==============================] - 39s 235ms/step - loss: 0.6624 - accuracy: 0.6745 - val_loss: 0.8974 - val_accuracy: 0.5000\n",
      "Epoch 2/20\n",
      "163/163 [==============================] - 39s 242ms/step - loss: 0.6112 - accuracy: 0.7176 - val_loss: 0.8399 - val_accuracy: 0.5000\n",
      "Epoch 3/20\n",
      "163/163 [==============================] - 39s 237ms/step - loss: 0.5890 - accuracy: 0.7312 - val_loss: 0.8462 - val_accuracy: 0.5000\n",
      "Epoch 4/20\n",
      "163/163 [==============================] - 38s 234ms/step - loss: 0.5718 - accuracy: 0.7350 - val_loss: 0.8452 - val_accuracy: 0.5000\n",
      "Epoch 5/20\n",
      "163/163 [==============================] - 38s 234ms/step - loss: 0.5626 - accuracy: 0.7352 - val_loss: 0.7845 - val_accuracy: 0.5000\n",
      "Epoch 6/20\n",
      "163/163 [==============================] - 39s 237ms/step - loss: 0.5479 - accuracy: 0.7395 - val_loss: 0.7732 - val_accuracy: 0.5000\n",
      "Epoch 7/20\n",
      "163/163 [==============================] - 38s 234ms/step - loss: 0.5446 - accuracy: 0.7398 - val_loss: 0.7943 - val_accuracy: 0.5000\n",
      "Epoch 8/20\n",
      "163/163 [==============================] - 38s 233ms/step - loss: 0.5291 - accuracy: 0.7469 - val_loss: 0.8206 - val_accuracy: 0.5000\n",
      "Epoch 9/20\n",
      "163/163 [==============================] - 38s 234ms/step - loss: 0.5140 - accuracy: 0.7542 - val_loss: 0.7518 - val_accuracy: 0.5000\n",
      "Epoch 10/20\n",
      "163/163 [==============================] - 39s 240ms/step - loss: 0.5031 - accuracy: 0.7571 - val_loss: 0.8039 - val_accuracy: 0.5000\n",
      "Epoch 11/20\n",
      "163/163 [==============================] - 41s 248ms/step - loss: 0.5005 - accuracy: 0.7556 - val_loss: 0.7746 - val_accuracy: 0.5000\n",
      "Epoch 12/20\n",
      "163/163 [==============================] - 42s 259ms/step - loss: 0.4826 - accuracy: 0.7617 - val_loss: 0.7646 - val_accuracy: 0.5000\n"
     ]
    }
   ],
   "source": [
    "import ssl\n",
    "ssl._create_default_https_context = ssl._create_unverified_context\n",
    "\n",
    "import tensorflow as tf\n",
    "from tensorflow.keras.applications import ResNet50\n",
    "from tensorflow.keras.models import Sequential\n",
    "from tensorflow.keras.layers import Dense, Dropout, GlobalAveragePooling2D\n",
    "from tensorflow.keras.optimizers import Adam\n",
    "from tensorflow.keras.callbacks import EarlyStopping\n",
    "\n",
    "base_model = ResNet50(\n",
    "    weights=\"imagenet\",\n",
    "    include_top=False,\n",
    "    input_shape=(150,150,3)\n",
    ")\n",
    "\n",
    "base_model.trainable = False\n",
    "\n",
    "model = Sequential([\n",
    "    base_model,\n",
    "    GlobalAveragePooling2D(),\n",
    "    Dense(128, activation=\"relu\"),\n",
    "    Dropout(0.5),\n",
    "    Dense(1, activation=\"sigmoid\")\n",
    "])\n",
    "\n",
    "model.compile(\n",
    "    optimizer=Adam(learning_rate=0.0001),\n",
    "    loss=\"binary_crossentropy\",\n",
    "    metrics=[\"accuracy\"]\n",
    ")\n",
    "\n",
    "early_stop = EarlyStopping(monitor=\"val_loss\", patience=3, restore_best_weights=True)\n",
    "\n",
    "history = model.fit(\n",
    "    train_generator,\n",
    "    steps_per_epoch=len(train_generator),\n",
    "    epochs=20,\n",
    "    validation_data=val_generator,\n",
    "    validation_steps=len(val_generator),\n",
    "    callbacks=[early_stop]\n",
    ")\n"
   ]
  },
  {
   "cell_type": "code",
   "execution_count": 15,
   "id": "3550612c-3ae8-41b3-a94d-2aaab950f6e0",
   "metadata": {},
   "outputs": [
    {
     "name": "stdout",
     "output_type": "stream",
     "text": [
      "Found 4173 images belonging to 2 classes.\n",
      "Found 1043 images belonging to 2 classes.\n"
     ]
    }
   ],
   "source": [
    "train_datagen = ImageDataGenerator(\n",
    "    rescale=1./255,\n",
    "    validation_split=0.2,  \n",
    "    rotation_range=15,\n",
    "    width_shift_range=0.1,\n",
    "    height_shift_range=0.1,\n",
    "    zoom_range=0.1,\n",
    "    shear_range=0.1,\n",
    "    horizontal_flip=True\n",
    ")\n",
    "\n",
    "train_generator = train_datagen.flow_from_directory(\n",
    "    train_data,\n",
    "    target_size=(150,150),\n",
    "    batch_size=32,\n",
    "    class_mode=\"binary\",\n",
    "    subset=\"training\"\n",
    ")\n",
    "\n",
    "val_generator = train_datagen.flow_from_directory(\n",
    "    train_data,\n",
    "    target_size=(150,150),\n",
    "    batch_size=32,\n",
    "    class_mode=\"binary\",\n",
    "    subset=\"validation\"\n",
    ")\n"
   ]
  },
  {
   "cell_type": "code",
   "execution_count": 16,
   "id": "50329ec5-3cae-4c7c-949b-865457ed69f8",
   "metadata": {},
   "outputs": [],
   "source": [
    "base_model.trainable = True\n",
    "for layer in base_model.layers[:-30]:\n",
    "    layer.trainable = False"
   ]
  },
  {
   "cell_type": "code",
   "execution_count": 17,
   "id": "9b829161-00f2-4fee-9ef7-4cf9fca50285",
   "metadata": {},
   "outputs": [
    {
     "name": "stderr",
     "output_type": "stream",
     "text": [
      "WARNING:absl:At this time, the v2.11+ optimizer `tf.keras.optimizers.Adam` runs slowly on M1/M2 Macs, please use the legacy Keras optimizer instead, located at `tf.keras.optimizers.legacy.Adam`.\n",
      "WARNING:absl:There is a known slowdown when using v2.11+ Keras optimizers on M1/M2 Macs. Falling back to the legacy Keras optimizer, i.e., `tf.keras.optimizers.legacy.Adam`.\n"
     ]
    }
   ],
   "source": [
    "model.compile(optimizer=Adam(1e-5), loss=\"binary_crossentropy\", metrics=[\"accuracy\"])\n"
   ]
  },
  {
   "cell_type": "code",
   "execution_count": 20,
   "id": "d1487ff0-d4d3-4196-be13-98fda98ab26e",
   "metadata": {},
   "outputs": [
    {
     "name": "stdout",
     "output_type": "stream",
     "text": [
      "Found 4173 images belonging to 2 classes.\n",
      "Found 1043 images belonging to 2 classes.\n",
      "Found 624 images belonging to 2 classes.\n"
     ]
    },
    {
     "name": "stderr",
     "output_type": "stream",
     "text": [
      "WARNING:absl:At this time, the v2.11+ optimizer `tf.keras.optimizers.Adam` runs slowly on M1/M2 Macs, please use the legacy Keras optimizer instead, located at `tf.keras.optimizers.legacy.Adam`.\n",
      "WARNING:absl:There is a known slowdown when using v2.11+ Keras optimizers on M1/M2 Macs. Falling back to the legacy Keras optimizer, i.e., `tf.keras.optimizers.legacy.Adam`.\n"
     ]
    },
    {
     "name": "stdout",
     "output_type": "stream",
     "text": [
      "Epoch 1/20\n"
     ]
    },
    {
     "name": "stderr",
     "output_type": "stream",
     "text": [
      "2025-08-31 16:21:24.559867: I tensorflow/core/grappler/optimizers/custom_graph_optimizer_registry.cc:114] Plugin optimizer for device_type GPU is enabled.\n"
     ]
    },
    {
     "name": "stdout",
     "output_type": "stream",
     "text": [
      "131/131 [==============================] - ETA: 0s - loss: 0.3333 - accuracy: 0.8454"
     ]
    },
    {
     "name": "stderr",
     "output_type": "stream",
     "text": [
      "2025-08-31 16:21:52.844148: I tensorflow/core/grappler/optimizers/custom_graph_optimizer_registry.cc:114] Plugin optimizer for device_type GPU is enabled.\n"
     ]
    },
    {
     "name": "stdout",
     "output_type": "stream",
     "text": [
      "131/131 [==============================] - 36s 258ms/step - loss: 0.3333 - accuracy: 0.8454 - val_loss: 0.5639 - val_accuracy: 0.7459\n",
      "Epoch 2/20\n",
      "131/131 [==============================] - 33s 248ms/step - loss: 0.2221 - accuracy: 0.9118 - val_loss: 0.6144 - val_accuracy: 0.6683\n",
      "Epoch 3/20\n",
      "131/131 [==============================] - 34s 260ms/step - loss: 0.2095 - accuracy: 0.9164 - val_loss: 0.2904 - val_accuracy: 0.8533\n",
      "Epoch 4/20\n",
      "131/131 [==============================] - 54s 411ms/step - loss: 0.2001 - accuracy: 0.9197 - val_loss: 0.2790 - val_accuracy: 0.8878\n",
      "Epoch 5/20\n",
      "131/131 [==============================] - 67s 510ms/step - loss: 0.1937 - accuracy: 0.9238 - val_loss: 0.3320 - val_accuracy: 0.8495\n",
      "Epoch 6/20\n",
      "131/131 [==============================] - 74s 565ms/step - loss: 0.1903 - accuracy: 0.9257 - val_loss: 0.3552 - val_accuracy: 0.8370\n",
      "Epoch 7/20\n",
      "131/131 [==============================] - 57s 433ms/step - loss: 0.1907 - accuracy: 0.9226 - val_loss: 0.1691 - val_accuracy: 0.9386\n",
      "Epoch 8/20\n",
      "131/131 [==============================] - 55s 419ms/step - loss: 0.1819 - accuracy: 0.9310 - val_loss: 0.1610 - val_accuracy: 0.9291\n",
      "Epoch 9/20\n",
      "131/131 [==============================] - 53s 406ms/step - loss: 0.1805 - accuracy: 0.9317 - val_loss: 0.1683 - val_accuracy: 0.9415\n",
      "Epoch 10/20\n",
      "131/131 [==============================] - 55s 418ms/step - loss: 0.1883 - accuracy: 0.9226 - val_loss: 0.2128 - val_accuracy: 0.9137\n",
      "Epoch 11/20\n",
      "131/131 [==============================] - 59s 448ms/step - loss: 0.1750 - accuracy: 0.9307 - val_loss: 0.3171 - val_accuracy: 0.8571\n",
      "20/20 [==============================] - 6s 284ms/step - loss: 0.4748 - accuracy: 0.8269\n",
      "Test Accuracy: 0.8269\n",
      "Test Loss: 0.4748\n"
     ]
    }
   ],
   "source": [
    "train_datagen = ImageDataGenerator(\n",
    "    rescale=1./255,\n",
    "    validation_split=0.2,\n",
    "    rotation_range=15,\n",
    "    width_shift_range=0.1,\n",
    "    height_shift_range=0.1,\n",
    "    zoom_range=0.1,\n",
    "    shear_range=0.1,\n",
    "    horizontal_flip=True\n",
    ")\n",
    "\n",
    "train_generator = train_datagen.flow_from_directory(\n",
    "    train_data,\n",
    "    target_size=(150,150),\n",
    "    batch_size=32,\n",
    "    class_mode=\"binary\",\n",
    "    subset=\"training\"\n",
    ")\n",
    "\n",
    "val_generator = train_datagen.flow_from_directory(\n",
    "    train_data,\n",
    "    target_size=(150,150),\n",
    "    batch_size=32,\n",
    "    class_mode=\"binary\",\n",
    "    subset=\"validation\"\n",
    ")\n",
    "\n",
    "test_datagen = ImageDataGenerator(rescale=1./255)\n",
    "test_generator = test_datagen.flow_from_directory(\n",
    "    test_data,\n",
    "    target_size=(150,150),\n",
    "    batch_size=32,\n",
    "    class_mode=\"binary\",\n",
    "    shuffle=False\n",
    ")\n",
    "\n",
    "base_model = ResNet50(weights=\"imagenet\", include_top=False, input_shape=(150,150,3))\n",
    "base_model.trainable = True\n",
    "for layer in base_model.layers[:-30]:\n",
    "    layer.trainable = False\n",
    "\n",
    "model = Sequential([\n",
    "    base_model,\n",
    "    GlobalAveragePooling2D(),\n",
    "    Dense(128, activation=\"relu\"),\n",
    "    Dropout(0.5),\n",
    "    Dense(1, activation=\"sigmoid\")\n",
    "])\n",
    "\n",
    "model.compile(optimizer=Adam(1e-5), loss=\"binary_crossentropy\", metrics=[\"accuracy\"])\n",
    "\n",
    "early_stop = EarlyStopping(monitor=\"val_loss\", patience=3, restore_best_weights=True)\n",
    "\n",
    "history = model.fit(\n",
    "    train_generator,\n",
    "    steps_per_epoch=len(train_generator),\n",
    "    epochs=20,\n",
    "    validation_data=val_generator,\n",
    "    validation_steps=len(val_generator),\n",
    "    callbacks=[early_stop]\n",
    ")\n",
    "\n",
    "test_loss, test_acc = model.evaluate(test_generator, steps=len(test_generator))\n",
    "print(f\"Test Accuracy: {test_acc:.4f}\")\n",
    "print(f\"Test Loss: {test_loss:.4f}\")\n"
   ]
  },
  {
   "cell_type": "code",
   "execution_count": 21,
   "id": "3fe7ebe3-cb52-4017-b642-1edc62617da3",
   "metadata": {},
   "outputs": [
    {
     "name": "stderr",
     "output_type": "stream",
     "text": [
      "/Library/Frameworks/Python.framework/Versions/3.11/lib/python3.11/site-packages/keras/src/engine/training.py:3000: UserWarning: You are saving your model as an HDF5 file via `model.save()`. This file format is considered legacy. We recommend using instead the native Keras format, e.g. `model.save('my_model.keras')`.\n",
      "  saving_api.save_model(\n"
     ]
    }
   ],
   "source": [
    "model.save(\"pneumonia_resnet50.h5\")"
   ]
  },
  {
   "cell_type": "code",
   "execution_count": null,
   "id": "7fed3315-9c54-4dc3-a2cf-0f000afdaa1e",
   "metadata": {},
   "outputs": [],
   "source": []
  }
 ],
 "metadata": {
  "kernelspec": {
   "display_name": "Python 3.11 (pandas)",
   "language": "python",
   "name": "py311-pandas"
  },
  "language_info": {
   "codemirror_mode": {
    "name": "ipython",
    "version": 3
   },
   "file_extension": ".py",
   "mimetype": "text/x-python",
   "name": "python",
   "nbconvert_exporter": "python",
   "pygments_lexer": "ipython3",
   "version": "3.11.4"
  }
 },
 "nbformat": 4,
 "nbformat_minor": 5
}
